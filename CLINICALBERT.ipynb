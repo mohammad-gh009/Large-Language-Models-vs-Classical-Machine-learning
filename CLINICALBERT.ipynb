{
  "nbformat": 4,
  "nbformat_minor": 0,
  "metadata": {
    "colab": {
      "provenance": []
    },
    "kernelspec": {
      "name": "python3",
      "display_name": "Python 3"
    },
    "language_info": {
      "name": "python"
    },
    "widgets": {
      "application/vnd.jupyter.widget-state+json": {
        "38853280d17b4294afc3a4bd00ac75f4": {
          "model_module": "@jupyter-widgets/controls",
          "model_name": "HBoxModel",
          "model_module_version": "1.5.0",
          "state": {
            "_dom_classes": [],
            "_model_module": "@jupyter-widgets/controls",
            "_model_module_version": "1.5.0",
            "_model_name": "HBoxModel",
            "_view_count": null,
            "_view_module": "@jupyter-widgets/controls",
            "_view_module_version": "1.5.0",
            "_view_name": "HBoxView",
            "box_style": "",
            "children": [
              "IPY_MODEL_01b2dde408674b75a9d909a070f90207",
              "IPY_MODEL_82d47efe5a20478cb9cff18b7561046c",
              "IPY_MODEL_f803236f9e9b415584eb7fcc5086b03d"
            ],
            "layout": "IPY_MODEL_347bba36816d41568475ee93705d9da4"
          }
        },
        "01b2dde408674b75a9d909a070f90207": {
          "model_module": "@jupyter-widgets/controls",
          "model_name": "HTMLModel",
          "model_module_version": "1.5.0",
          "state": {
            "_dom_classes": [],
            "_model_module": "@jupyter-widgets/controls",
            "_model_module_version": "1.5.0",
            "_model_name": "HTMLModel",
            "_view_count": null,
            "_view_module": "@jupyter-widgets/controls",
            "_view_module_version": "1.5.0",
            "_view_name": "HTMLView",
            "description": "",
            "description_tooltip": null,
            "layout": "IPY_MODEL_86af1e43083c4aabb7f3d528be195d8c",
            "placeholder": "​",
            "style": "IPY_MODEL_ebb019e8a9bf44e09f4bf7bd341260da",
            "value": "pytorch_model.bin: 100%"
          }
        },
        "82d47efe5a20478cb9cff18b7561046c": {
          "model_module": "@jupyter-widgets/controls",
          "model_name": "FloatProgressModel",
          "model_module_version": "1.5.0",
          "state": {
            "_dom_classes": [],
            "_model_module": "@jupyter-widgets/controls",
            "_model_module_version": "1.5.0",
            "_model_name": "FloatProgressModel",
            "_view_count": null,
            "_view_module": "@jupyter-widgets/controls",
            "_view_module_version": "1.5.0",
            "_view_name": "ProgressView",
            "bar_style": "success",
            "description": "",
            "description_tooltip": null,
            "layout": "IPY_MODEL_a8a3907b3cee41ac804d4223bfa37538",
            "max": 435778770,
            "min": 0,
            "orientation": "horizontal",
            "style": "IPY_MODEL_761ecbb93371433690cb04808f8b78ad",
            "value": 435778770
          }
        },
        "f803236f9e9b415584eb7fcc5086b03d": {
          "model_module": "@jupyter-widgets/controls",
          "model_name": "HTMLModel",
          "model_module_version": "1.5.0",
          "state": {
            "_dom_classes": [],
            "_model_module": "@jupyter-widgets/controls",
            "_model_module_version": "1.5.0",
            "_model_name": "HTMLModel",
            "_view_count": null,
            "_view_module": "@jupyter-widgets/controls",
            "_view_module_version": "1.5.0",
            "_view_name": "HTMLView",
            "description": "",
            "description_tooltip": null,
            "layout": "IPY_MODEL_77d63f348e9040388031d4fd5ca92506",
            "placeholder": "​",
            "style": "IPY_MODEL_419a3675a1ba4d76832d7c607d1afc79",
            "value": " 436M/436M [00:08&lt;00:00, 39.7MB/s]"
          }
        },
        "347bba36816d41568475ee93705d9da4": {
          "model_module": "@jupyter-widgets/base",
          "model_name": "LayoutModel",
          "model_module_version": "1.2.0",
          "state": {
            "_model_module": "@jupyter-widgets/base",
            "_model_module_version": "1.2.0",
            "_model_name": "LayoutModel",
            "_view_count": null,
            "_view_module": "@jupyter-widgets/base",
            "_view_module_version": "1.2.0",
            "_view_name": "LayoutView",
            "align_content": null,
            "align_items": null,
            "align_self": null,
            "border": null,
            "bottom": null,
            "display": null,
            "flex": null,
            "flex_flow": null,
            "grid_area": null,
            "grid_auto_columns": null,
            "grid_auto_flow": null,
            "grid_auto_rows": null,
            "grid_column": null,
            "grid_gap": null,
            "grid_row": null,
            "grid_template_areas": null,
            "grid_template_columns": null,
            "grid_template_rows": null,
            "height": null,
            "justify_content": null,
            "justify_items": null,
            "left": null,
            "margin": null,
            "max_height": null,
            "max_width": null,
            "min_height": null,
            "min_width": null,
            "object_fit": null,
            "object_position": null,
            "order": null,
            "overflow": null,
            "overflow_x": null,
            "overflow_y": null,
            "padding": null,
            "right": null,
            "top": null,
            "visibility": null,
            "width": null
          }
        },
        "86af1e43083c4aabb7f3d528be195d8c": {
          "model_module": "@jupyter-widgets/base",
          "model_name": "LayoutModel",
          "model_module_version": "1.2.0",
          "state": {
            "_model_module": "@jupyter-widgets/base",
            "_model_module_version": "1.2.0",
            "_model_name": "LayoutModel",
            "_view_count": null,
            "_view_module": "@jupyter-widgets/base",
            "_view_module_version": "1.2.0",
            "_view_name": "LayoutView",
            "align_content": null,
            "align_items": null,
            "align_self": null,
            "border": null,
            "bottom": null,
            "display": null,
            "flex": null,
            "flex_flow": null,
            "grid_area": null,
            "grid_auto_columns": null,
            "grid_auto_flow": null,
            "grid_auto_rows": null,
            "grid_column": null,
            "grid_gap": null,
            "grid_row": null,
            "grid_template_areas": null,
            "grid_template_columns": null,
            "grid_template_rows": null,
            "height": null,
            "justify_content": null,
            "justify_items": null,
            "left": null,
            "margin": null,
            "max_height": null,
            "max_width": null,
            "min_height": null,
            "min_width": null,
            "object_fit": null,
            "object_position": null,
            "order": null,
            "overflow": null,
            "overflow_x": null,
            "overflow_y": null,
            "padding": null,
            "right": null,
            "top": null,
            "visibility": null,
            "width": null
          }
        },
        "ebb019e8a9bf44e09f4bf7bd341260da": {
          "model_module": "@jupyter-widgets/controls",
          "model_name": "DescriptionStyleModel",
          "model_module_version": "1.5.0",
          "state": {
            "_model_module": "@jupyter-widgets/controls",
            "_model_module_version": "1.5.0",
            "_model_name": "DescriptionStyleModel",
            "_view_count": null,
            "_view_module": "@jupyter-widgets/base",
            "_view_module_version": "1.2.0",
            "_view_name": "StyleView",
            "description_width": ""
          }
        },
        "a8a3907b3cee41ac804d4223bfa37538": {
          "model_module": "@jupyter-widgets/base",
          "model_name": "LayoutModel",
          "model_module_version": "1.2.0",
          "state": {
            "_model_module": "@jupyter-widgets/base",
            "_model_module_version": "1.2.0",
            "_model_name": "LayoutModel",
            "_view_count": null,
            "_view_module": "@jupyter-widgets/base",
            "_view_module_version": "1.2.0",
            "_view_name": "LayoutView",
            "align_content": null,
            "align_items": null,
            "align_self": null,
            "border": null,
            "bottom": null,
            "display": null,
            "flex": null,
            "flex_flow": null,
            "grid_area": null,
            "grid_auto_columns": null,
            "grid_auto_flow": null,
            "grid_auto_rows": null,
            "grid_column": null,
            "grid_gap": null,
            "grid_row": null,
            "grid_template_areas": null,
            "grid_template_columns": null,
            "grid_template_rows": null,
            "height": null,
            "justify_content": null,
            "justify_items": null,
            "left": null,
            "margin": null,
            "max_height": null,
            "max_width": null,
            "min_height": null,
            "min_width": null,
            "object_fit": null,
            "object_position": null,
            "order": null,
            "overflow": null,
            "overflow_x": null,
            "overflow_y": null,
            "padding": null,
            "right": null,
            "top": null,
            "visibility": null,
            "width": null
          }
        },
        "761ecbb93371433690cb04808f8b78ad": {
          "model_module": "@jupyter-widgets/controls",
          "model_name": "ProgressStyleModel",
          "model_module_version": "1.5.0",
          "state": {
            "_model_module": "@jupyter-widgets/controls",
            "_model_module_version": "1.5.0",
            "_model_name": "ProgressStyleModel",
            "_view_count": null,
            "_view_module": "@jupyter-widgets/base",
            "_view_module_version": "1.2.0",
            "_view_name": "StyleView",
            "bar_color": null,
            "description_width": ""
          }
        },
        "77d63f348e9040388031d4fd5ca92506": {
          "model_module": "@jupyter-widgets/base",
          "model_name": "LayoutModel",
          "model_module_version": "1.2.0",
          "state": {
            "_model_module": "@jupyter-widgets/base",
            "_model_module_version": "1.2.0",
            "_model_name": "LayoutModel",
            "_view_count": null,
            "_view_module": "@jupyter-widgets/base",
            "_view_module_version": "1.2.0",
            "_view_name": "LayoutView",
            "align_content": null,
            "align_items": null,
            "align_self": null,
            "border": null,
            "bottom": null,
            "display": null,
            "flex": null,
            "flex_flow": null,
            "grid_area": null,
            "grid_auto_columns": null,
            "grid_auto_flow": null,
            "grid_auto_rows": null,
            "grid_column": null,
            "grid_gap": null,
            "grid_row": null,
            "grid_template_areas": null,
            "grid_template_columns": null,
            "grid_template_rows": null,
            "height": null,
            "justify_content": null,
            "justify_items": null,
            "left": null,
            "margin": null,
            "max_height": null,
            "max_width": null,
            "min_height": null,
            "min_width": null,
            "object_fit": null,
            "object_position": null,
            "order": null,
            "overflow": null,
            "overflow_x": null,
            "overflow_y": null,
            "padding": null,
            "right": null,
            "top": null,
            "visibility": null,
            "width": null
          }
        },
        "419a3675a1ba4d76832d7c607d1afc79": {
          "model_module": "@jupyter-widgets/controls",
          "model_name": "DescriptionStyleModel",
          "model_module_version": "1.5.0",
          "state": {
            "_model_module": "@jupyter-widgets/controls",
            "_model_module_version": "1.5.0",
            "_model_name": "DescriptionStyleModel",
            "_view_count": null,
            "_view_module": "@jupyter-widgets/base",
            "_view_module_version": "1.2.0",
            "_view_name": "StyleView",
            "description_width": ""
          }
        }
      }
    }
  },
  "cells": [
    {
      "cell_type": "code",
      "execution_count": null,
      "metadata": {
        "colab": {
          "base_uri": "https://localhost:8080/"
        },
        "id": "QZc2egRPGZ7c",
        "outputId": "44b43aaa-ba99-4d7b-bc3b-9e9c9c80dc9f"
      },
      "outputs": [
        {
          "output_type": "stream",
          "name": "stdout",
          "text": [
            "Mounted at /content/drive\n"
          ]
        }
      ],
      "source": [
        "from google.colab import drive\n",
        "drive.mount('/content/drive')\n"
      ]
    },
    {
      "cell_type": "code",
      "source": [
        "import pandas as pd\n",
        "\n",
        "\n",
        "file_path = '/content/drive/My Drive/LLM_X_test_dataset (2).xlsx'\n",
        "data = pd.read_excel(file_path)\n",
        "\n",
        "print(data.head())\n"
      ],
      "metadata": {
        "colab": {
          "base_uri": "https://localhost:8080/"
        },
        "id": "q0rb1ZVhJCN9",
        "outputId": "28518bd1-948a-4ebd-c270-44d209854e4e"
      },
      "execution_count": null,
      "outputs": [
        {
          "output_type": "stream",
          "name": "stdout",
          "text": [
            "   Unnamed: 0  Gender  Caugh  Dyspnea  Fever  Chiver  Mylagia  Weakness  \\\n",
            "0           0       0      0        0      0       0        0         0   \n",
            "1           1       1      1        1      1       1        0         0   \n",
            "2           2       1      0        0      0       0        0         1   \n",
            "3           3       0      1        1      1       1        0         0   \n",
            "4           4       1      1        1      0       0        0         1   \n",
            "\n",
            "   loss of consciousness  nausea/Vomit  ...  \\\n",
            "0                      1             0  ...   \n",
            "1                      0             0  ...   \n",
            "2                      0             0  ...   \n",
            "3                      0             0  ...   \n",
            "4                      1             1  ...   \n",
            "\n",
            "                             patient medical hidtory  \\\n",
            "0  You're tasked with analyzing the present sympt...   \n",
            "1  You're tasked with analyzing the present sympt...   \n",
            "2  You're tasked with analyzing the present sympt...   \n",
            "3  You're tasked with analyzing the present sympt...   \n",
            "4  You're tasked with analyzing the present sympt...   \n",
            "\n",
            "   Inhospital Mortalit(TRUE)  Mixtral-8x7B-Instruct-v0.1   Llama-3-70B  \\\n",
            "0                        die                          die          die   \n",
            "1                        die                          die          die   \n",
            "2                        die                          die          die   \n",
            "3                        die                          die          die   \n",
            "4                        die                          die          die   \n",
            "\n",
            "   Mistral-7B-Instruct  -Llama-3-8B  gpt-4o-2024-05-13_outcome  \\\n",
            "0                  die          die                        die   \n",
            "1                  die          die                        die   \n",
            "2                  die          die                        die   \n",
            "3                  die          die                        die   \n",
            "4                  die          die                        die   \n",
            "\n",
            "   gpt-3.5-turbo-0125_outcome  gpt-4-turbo-2024-04-09_outcome  \\\n",
            "0                         die                             die   \n",
            "1                         die                             die   \n",
            "2                         die                             die   \n",
            "3                         die                             die   \n",
            "4                         die                             die   \n",
            "\n",
            "   gpt-4-0613_outcome  \n",
            "0                 die  \n",
            "1                 die  \n",
            "2                 die  \n",
            "3             survive  \n",
            "4                 die  \n",
            "\n",
            "[5 rows x 54 columns]\n"
          ]
        }
      ]
    },
    {
      "cell_type": "code",
      "source": [
        "from transformers import BertTokenizer, BertForSequenceClassification\n",
        "import torch\n",
        "\n",
        "\n",
        "tokenizer = BertTokenizer.from_pretrained('bert-base-uncased')\n",
        "model = BertForSequenceClassification.from_pretrained('bert-base-uncased', num_labels=2)\n",
        "\n",
        "\n",
        "device = torch.device(\"cuda\" if torch.cuda.is_available() else \"cpu\")\n",
        "model.to(device)\n"
      ],
      "metadata": {
        "colab": {
          "base_uri": "https://localhost:8080/"
        },
        "id": "3rh0SHXGJVgd",
        "outputId": "e41afb9c-53ec-4126-e617-aa8cd4108ec9"
      },
      "execution_count": null,
      "outputs": [
        {
          "output_type": "stream",
          "name": "stderr",
          "text": [
            "Some weights of BertForSequenceClassification were not initialized from the model checkpoint at bert-base-uncased and are newly initialized: ['classifier.bias', 'classifier.weight']\n",
            "You should probably TRAIN this model on a down-stream task to be able to use it for predictions and inference.\n"
          ]
        },
        {
          "output_type": "execute_result",
          "data": {
            "text/plain": [
              "BertForSequenceClassification(\n",
              "  (bert): BertModel(\n",
              "    (embeddings): BertEmbeddings(\n",
              "      (word_embeddings): Embedding(30522, 768, padding_idx=0)\n",
              "      (position_embeddings): Embedding(512, 768)\n",
              "      (token_type_embeddings): Embedding(2, 768)\n",
              "      (LayerNorm): LayerNorm((768,), eps=1e-12, elementwise_affine=True)\n",
              "      (dropout): Dropout(p=0.1, inplace=False)\n",
              "    )\n",
              "    (encoder): BertEncoder(\n",
              "      (layer): ModuleList(\n",
              "        (0-11): 12 x BertLayer(\n",
              "          (attention): BertAttention(\n",
              "            (self): BertSdpaSelfAttention(\n",
              "              (query): Linear(in_features=768, out_features=768, bias=True)\n",
              "              (key): Linear(in_features=768, out_features=768, bias=True)\n",
              "              (value): Linear(in_features=768, out_features=768, bias=True)\n",
              "              (dropout): Dropout(p=0.1, inplace=False)\n",
              "            )\n",
              "            (output): BertSelfOutput(\n",
              "              (dense): Linear(in_features=768, out_features=768, bias=True)\n",
              "              (LayerNorm): LayerNorm((768,), eps=1e-12, elementwise_affine=True)\n",
              "              (dropout): Dropout(p=0.1, inplace=False)\n",
              "            )\n",
              "          )\n",
              "          (intermediate): BertIntermediate(\n",
              "            (dense): Linear(in_features=768, out_features=3072, bias=True)\n",
              "            (intermediate_act_fn): GELUActivation()\n",
              "          )\n",
              "          (output): BertOutput(\n",
              "            (dense): Linear(in_features=3072, out_features=768, bias=True)\n",
              "            (LayerNorm): LayerNorm((768,), eps=1e-12, elementwise_affine=True)\n",
              "            (dropout): Dropout(p=0.1, inplace=False)\n",
              "          )\n",
              "        )\n",
              "      )\n",
              "    )\n",
              "    (pooler): BertPooler(\n",
              "      (dense): Linear(in_features=768, out_features=768, bias=True)\n",
              "      (activation): Tanh()\n",
              "    )\n",
              "  )\n",
              "  (dropout): Dropout(p=0.1, inplace=False)\n",
              "  (classifier): Linear(in_features=768, out_features=2, bias=True)\n",
              ")"
            ]
          },
          "metadata": {},
          "execution_count": 13
        }
      ]
    },
    {
      "cell_type": "code",
      "source": [
        "def predict_outcome(text):\n",
        "    inputs = tokenizer(text, return_tensors=\"pt\", truncation=True, padding=True, max_length=512).to(device)\n",
        "    outputs = model(**inputs)\n",
        "    logits = outputs.logits\n",
        "    prediction = torch.argmax(logits, dim=-1).item()\n",
        "    return \"survive\" if prediction == 1 else \"die\"\n",
        "\n",
        "\n",
        "data['bert_outcome'] = data['patient medical hidtory'].apply(predict_outcome)\n",
        "\n",
        "\n",
        "output_file_path = '/content/drive/My Drive/LLM_x_test_dataset_with_predictions.xlsx'\n",
        "data.to_excel(output_file_path, index=False)\n"
      ],
      "metadata": {
        "id": "wXe6AvJnJmJK"
      },
      "execution_count": null,
      "outputs": []
    },
    {
      "cell_type": "code",
      "source": [
        "from sklearn.metrics import accuracy_score, precision_score, recall_score, f1_score, roc_auc_score, confusion_matrix\n",
        "import numpy as np"
      ],
      "metadata": {
        "id": "Qwm78bSaD6Kd"
      },
      "execution_count": null,
      "outputs": []
    },
    {
      "cell_type": "code",
      "source": [
        "print(data.columns)"
      ],
      "metadata": {
        "colab": {
          "base_uri": "https://localhost:8080/"
        },
        "id": "HtaTXaaiEqMS",
        "outputId": "b5fdc506-00ac-4624-c828-d987877f5013"
      },
      "execution_count": null,
      "outputs": [
        {
          "output_type": "stream",
          "name": "stdout",
          "text": [
            "Index(['Unnamed: 0', 'Gender', 'Caugh', 'Dyspnea', 'Fever', 'Chiver',\n",
            "       'Mylagia', 'Weakness', 'loss of consciousness', 'nausea/Vomit',\n",
            "       'Diarhhea', 'ChestPain', 'Headache', 'Curremt Smoker', 'hypertension',\n",
            "       'Congestive Heart Failure', 'COPD', 'diabetes mellitus',\n",
            "       'cerebral vascular accident', 'Chronic kidney disease', 'Cancer',\n",
            "       'Alzhimer', 'symptom to referral', 'O2 saturation without supply',\n",
            "       'pulse rate', 'diastolic Blood pressure', 'Systolic Blood pressure',\n",
            "       'respiratory rate', 'Temperature', 'WBC', ' Lymphocyte count',\n",
            "       ' Neutrophils percentage', 'Platelets ', 'Hemoglobin', 'MCV', 'CR',\n",
            "       'sodium', 'potassium', 'alkaline phosphatase', 'ESR', 'CPK', 'PTT',\n",
            "       'PT', 'Age', 'patient medical hidtory', 'Inhospital Mortalit(TRUE)',\n",
            "       'Mixtral-8x7B-Instruct-v0.1 ', 'Llama-3-70B', 'Mistral-7B-Instruct',\n",
            "       '-Llama-3-8B', 'gpt-4o-2024-05-13_outcome',\n",
            "       'gpt-3.5-turbo-0125_outcome', 'gpt-4-turbo-2024-04-09_outcome',\n",
            "       'gpt-4-0613_outcome', 'bert_outcome'],\n",
            "      dtype='object')\n"
          ]
        }
      ]
    },
    {
      "cell_type": "code",
      "source": [
        "from sklearn.metrics import accuracy_score, precision_score, recall_score, f1_score, roc_auc_score, confusion_matrix\n",
        "\n",
        "actual_outcome_column = 'Inhospital Mortalit(TRUE)'\n",
        "predicted_outcome_column = 'bert_outcome'\n",
        "\n",
        "accuracy = accuracy_score(data[actual_outcome_column], data[predicted_outcome_column])\n",
        "\n",
        "precision = precision_score(data[actual_outcome_column], data[predicted_outcome_column], pos_label='survive')\n",
        "\n",
        "recall = recall_score(data[actual_outcome_column], data[predicted_outcome_column], pos_label='survive')\n",
        "\n",
        "f1 = f1_score(data[actual_outcome_column], data[predicted_outcome_column], pos_label='survive')\n",
        "\n",
        "tn, fp, fn, tp = confusion_matrix(data[actual_outcome_column], data[predicted_outcome_column], labels=['die', 'survive']).ravel()\n",
        "\n",
        "specificity = tn / (tn + fp)\n",
        "\n",
        "\n",
        "\n",
        "print(f'Accuracy: {accuracy}')\n",
        "print(f'Precision: {precision}')\n",
        "print(f'Recall: {recall}')\n",
        "print(f'Specificity: {specificity}')\n",
        "print(f'F1-Score: {f1}')"
      ],
      "metadata": {
        "colab": {
          "base_uri": "https://localhost:8080/"
        },
        "id": "SNUMvFTvFIFb",
        "outputId": "d5591dae-7016-48fe-8608-80054b82c9db"
      },
      "execution_count": null,
      "outputs": [
        {
          "output_type": "stream",
          "name": "stdout",
          "text": [
            "Accuracy: 0.5\n",
            "Precision: 0.5\n",
            "Recall: 1.0\n",
            "Specificity: 0.0\n",
            "F1-Score: 0.6666666666666666\n"
          ]
        }
      ]
    },
    {
      "cell_type": "code",
      "source": [
        "results = {\n",
        "    'Accuracy': [accuracy],\n",
        "    'Precision': [precision],\n",
        "    'Recall': [recall],\n",
        "    'Specificity': [specificity],\n",
        "    'F1-Score': [f1],\n",
        "}\n",
        "\n",
        "results_df = pd.DataFrame(results)\n",
        "\n",
        "\n",
        "results_df.to_excel('/content/drive/My Drive/model_metrics.xlsx', index=False)\n"
      ],
      "metadata": {
        "id": "CGa8sM5YGQEW"
      },
      "execution_count": null,
      "outputs": []
    },
    {
      "cell_type": "code",
      "source": [
        "import matplotlib.pyplot as plt\n",
        "import seaborn as sns\n",
        "from sklearn.metrics import confusion_matrix, roc_curve, auc"
      ],
      "metadata": {
        "id": "8XLy25PmGZFK"
      },
      "execution_count": null,
      "outputs": []
    },
    {
      "cell_type": "code",
      "source": [
        "!pip install transformers\n",
        "\n",
        "from transformers import BertTokenizer, BertForSequenceClassification\n",
        "import torch\n",
        "import pandas as pd"
      ],
      "metadata": {
        "colab": {
          "base_uri": "https://localhost:8080/"
        },
        "id": "nWIWO3o_G61R",
        "outputId": "4e247728-40b7-4ea4-be19-9ef1862fed70"
      },
      "execution_count": null,
      "outputs": [
        {
          "output_type": "stream",
          "name": "stdout",
          "text": [
            "Requirement already satisfied: transformers in /usr/local/lib/python3.10/dist-packages (4.42.4)\n",
            "Requirement already satisfied: filelock in /usr/local/lib/python3.10/dist-packages (from transformers) (3.15.4)\n",
            "Requirement already satisfied: huggingface-hub<1.0,>=0.23.2 in /usr/local/lib/python3.10/dist-packages (from transformers) (0.23.5)\n",
            "Requirement already satisfied: numpy<2.0,>=1.17 in /usr/local/lib/python3.10/dist-packages (from transformers) (1.26.4)\n",
            "Requirement already satisfied: packaging>=20.0 in /usr/local/lib/python3.10/dist-packages (from transformers) (24.1)\n",
            "Requirement already satisfied: pyyaml>=5.1 in /usr/local/lib/python3.10/dist-packages (from transformers) (6.0.2)\n",
            "Requirement already satisfied: regex!=2019.12.17 in /usr/local/lib/python3.10/dist-packages (from transformers) (2024.5.15)\n",
            "Requirement already satisfied: requests in /usr/local/lib/python3.10/dist-packages (from transformers) (2.32.3)\n",
            "Requirement already satisfied: safetensors>=0.4.1 in /usr/local/lib/python3.10/dist-packages (from transformers) (0.4.4)\n",
            "Requirement already satisfied: tokenizers<0.20,>=0.19 in /usr/local/lib/python3.10/dist-packages (from transformers) (0.19.1)\n",
            "Requirement already satisfied: tqdm>=4.27 in /usr/local/lib/python3.10/dist-packages (from transformers) (4.66.5)\n",
            "Requirement already satisfied: fsspec>=2023.5.0 in /usr/local/lib/python3.10/dist-packages (from huggingface-hub<1.0,>=0.23.2->transformers) (2024.6.1)\n",
            "Requirement already satisfied: typing-extensions>=3.7.4.3 in /usr/local/lib/python3.10/dist-packages (from huggingface-hub<1.0,>=0.23.2->transformers) (4.12.2)\n",
            "Requirement already satisfied: charset-normalizer<4,>=2 in /usr/local/lib/python3.10/dist-packages (from requests->transformers) (3.3.2)\n",
            "Requirement already satisfied: idna<4,>=2.5 in /usr/local/lib/python3.10/dist-packages (from requests->transformers) (3.7)\n",
            "Requirement already satisfied: urllib3<3,>=1.21.1 in /usr/local/lib/python3.10/dist-packages (from requests->transformers) (2.0.7)\n",
            "Requirement already satisfied: certifi>=2017.4.17 in /usr/local/lib/python3.10/dist-packages (from requests->transformers) (2024.7.4)\n"
          ]
        }
      ]
    },
    {
      "cell_type": "code",
      "source": [
        "tokenizer = BertTokenizer.from_pretrained('emilyalsentzer/Bio_ClinicalBERT')\n",
        "model = BertForSequenceClassification.from_pretrained('emilyalsentzer/Bio_ClinicalBERT', num_labels=2)\n",
        "\n",
        "\n",
        "device = torch.device(\"cuda\" if torch.cuda.is_available() else \"cpu\")\n",
        "model.to(device)\n"
      ],
      "metadata": {
        "colab": {
          "base_uri": "https://localhost:8080/",
          "height": 909,
          "referenced_widgets": [
            "38853280d17b4294afc3a4bd00ac75f4",
            "01b2dde408674b75a9d909a070f90207",
            "82d47efe5a20478cb9cff18b7561046c",
            "f803236f9e9b415584eb7fcc5086b03d",
            "347bba36816d41568475ee93705d9da4",
            "86af1e43083c4aabb7f3d528be195d8c",
            "ebb019e8a9bf44e09f4bf7bd341260da",
            "a8a3907b3cee41ac804d4223bfa37538",
            "761ecbb93371433690cb04808f8b78ad",
            "77d63f348e9040388031d4fd5ca92506",
            "419a3675a1ba4d76832d7c607d1afc79"
          ]
        },
        "id": "fxPxTVXFHLlu",
        "outputId": "7f834b46-91d7-437a-d30a-9ce6540b246f"
      },
      "execution_count": null,
      "outputs": [
        {
          "output_type": "display_data",
          "data": {
            "text/plain": [
              "pytorch_model.bin:   0%|          | 0.00/436M [00:00<?, ?B/s]"
            ],
            "application/vnd.jupyter.widget-view+json": {
              "version_major": 2,
              "version_minor": 0,
              "model_id": "38853280d17b4294afc3a4bd00ac75f4"
            }
          },
          "metadata": {}
        },
        {
          "output_type": "stream",
          "name": "stderr",
          "text": [
            "Some weights of BertForSequenceClassification were not initialized from the model checkpoint at emilyalsentzer/Bio_ClinicalBERT and are newly initialized: ['classifier.bias', 'classifier.weight']\n",
            "You should probably TRAIN this model on a down-stream task to be able to use it for predictions and inference.\n"
          ]
        },
        {
          "output_type": "execute_result",
          "data": {
            "text/plain": [
              "BertForSequenceClassification(\n",
              "  (bert): BertModel(\n",
              "    (embeddings): BertEmbeddings(\n",
              "      (word_embeddings): Embedding(28996, 768, padding_idx=0)\n",
              "      (position_embeddings): Embedding(512, 768)\n",
              "      (token_type_embeddings): Embedding(2, 768)\n",
              "      (LayerNorm): LayerNorm((768,), eps=1e-12, elementwise_affine=True)\n",
              "      (dropout): Dropout(p=0.1, inplace=False)\n",
              "    )\n",
              "    (encoder): BertEncoder(\n",
              "      (layer): ModuleList(\n",
              "        (0-11): 12 x BertLayer(\n",
              "          (attention): BertAttention(\n",
              "            (self): BertSdpaSelfAttention(\n",
              "              (query): Linear(in_features=768, out_features=768, bias=True)\n",
              "              (key): Linear(in_features=768, out_features=768, bias=True)\n",
              "              (value): Linear(in_features=768, out_features=768, bias=True)\n",
              "              (dropout): Dropout(p=0.1, inplace=False)\n",
              "            )\n",
              "            (output): BertSelfOutput(\n",
              "              (dense): Linear(in_features=768, out_features=768, bias=True)\n",
              "              (LayerNorm): LayerNorm((768,), eps=1e-12, elementwise_affine=True)\n",
              "              (dropout): Dropout(p=0.1, inplace=False)\n",
              "            )\n",
              "          )\n",
              "          (intermediate): BertIntermediate(\n",
              "            (dense): Linear(in_features=768, out_features=3072, bias=True)\n",
              "            (intermediate_act_fn): GELUActivation()\n",
              "          )\n",
              "          (output): BertOutput(\n",
              "            (dense): Linear(in_features=3072, out_features=768, bias=True)\n",
              "            (LayerNorm): LayerNorm((768,), eps=1e-12, elementwise_affine=True)\n",
              "            (dropout): Dropout(p=0.1, inplace=False)\n",
              "          )\n",
              "        )\n",
              "      )\n",
              "    )\n",
              "    (pooler): BertPooler(\n",
              "      (dense): Linear(in_features=768, out_features=768, bias=True)\n",
              "      (activation): Tanh()\n",
              "    )\n",
              "  )\n",
              "  (dropout): Dropout(p=0.1, inplace=False)\n",
              "  (classifier): Linear(in_features=768, out_features=2, bias=True)\n",
              ")"
            ]
          },
          "metadata": {},
          "execution_count": 33
        }
      ]
    },
    {
      "cell_type": "code",
      "source": [
        "from google.colab import drive\n",
        "drive.mount('/content/drive')\n",
        "\n",
        "file_path = '/content/drive/My Drive/LLM_X_test_dataset (2).xlsx'\n",
        "data = pd.read_excel(file_path)"
      ],
      "metadata": {
        "colab": {
          "base_uri": "https://localhost:8080/"
        },
        "id": "eL8TJbDuHX9k",
        "outputId": "a5630968-0a70-4142-ebad-3abca6863a3b"
      },
      "execution_count": null,
      "outputs": [
        {
          "output_type": "stream",
          "name": "stdout",
          "text": [
            "Drive already mounted at /content/drive; to attempt to forcibly remount, call drive.mount(\"/content/drive\", force_remount=True).\n"
          ]
        }
      ]
    },
    {
      "cell_type": "code",
      "source": [
        "def predict_outcome(text):\n",
        "    inputs = tokenizer(text, return_tensors=\"pt\", truncation=True, padding=True, max_length=512).to(device)\n",
        "    outputs = model(**inputs)\n",
        "    logits = outputs.logits\n",
        "    prediction = torch.argmax(logits, dim=-1).item()\n",
        "    return \"survive\" if prediction == 1 else \"die\"\n",
        "\n",
        "data['clinicalbert_outcome'] = data['patient medical hidtory'].apply(predict_outcome)\n",
        "\n",
        "output_file_path = '/content/drive/My Drive/LLM_x_test_dataset_with_clinicalbert_predictions.xlsx'\n",
        "data.to_excel(output_file_path, index=False)"
      ],
      "metadata": {
        "id": "zmiHZx7AHuM5"
      },
      "execution_count": null,
      "outputs": []
    },
    {
      "cell_type": "code",
      "source": [
        "from sklearn.metrics import accuracy_score, precision_score, recall_score, f1_score, confusion_matrix\n",
        "\n",
        "actual_outcome_column = 'Inhospital Mortalit(TRUE)'\n",
        "predicted_outcome_column = 'clinicalbert_outcome'\n",
        "\n",
        "accuracy = accuracy_score(data[actual_outcome_column], data[predicted_outcome_column])\n",
        "precision = precision_score(data[actual_outcome_column], data[predicted_outcome_column], pos_label='survive')\n",
        "recall = recall_score(data[actual_outcome_column], data[predicted_outcome_column], pos_label='survive')\n",
        "f1 = f1_score(data[actual_outcome_column], data[predicted_outcome_column], pos_label='survive')\n",
        "tn, fp, fn, tp = confusion_matrix(data[actual_outcome_column], data[predicted_outcome_column], labels=['die', 'survive']).ravel()\n",
        "specificity = tn / (tn + fp)\n",
        "\n",
        "print(f'Accuracy: {accuracy}')\n",
        "print(f'Precision: {precision}')\n",
        "print(f'Recall: {recall}')\n",
        "print(f'Specificity: {specificity}')\n",
        "print(f'F1-Score: {f1}')"
      ],
      "metadata": {
        "colab": {
          "base_uri": "https://localhost:8080/"
        },
        "id": "29X086qjIHHm",
        "outputId": "4bcace70-8582-4b8c-b53d-a605a43040f4"
      },
      "execution_count": null,
      "outputs": [
        {
          "output_type": "stream",
          "name": "stdout",
          "text": [
            "Accuracy: 0.5\n",
            "Precision: 0.0\n",
            "Recall: 0.0\n",
            "Specificity: 1.0\n",
            "F1-Score: 0.0\n"
          ]
        },
        {
          "output_type": "stream",
          "name": "stderr",
          "text": [
            "/usr/local/lib/python3.10/dist-packages/sklearn/metrics/_classification.py:1471: UndefinedMetricWarning: Precision is ill-defined and being set to 0.0 due to no predicted samples. Use `zero_division` parameter to control this behavior.\n",
            "  _warn_prf(average, modifier, msg_start, len(result))\n"
          ]
        }
      ]
    },
    {
      "cell_type": "code",
      "source": [
        "!pip install fpdf"
      ],
      "metadata": {
        "colab": {
          "base_uri": "https://localhost:8080/"
        },
        "id": "VFzgtoQNMQJ_",
        "outputId": "5d28857a-8376-432a-a8d3-5f93f22bd522"
      },
      "execution_count": null,
      "outputs": [
        {
          "output_type": "stream",
          "name": "stdout",
          "text": [
            "Collecting fpdf\n",
            "  Downloading fpdf-1.7.2.tar.gz (39 kB)\n",
            "  Preparing metadata (setup.py) ... \u001b[?25l\u001b[?25hdone\n",
            "Building wheels for collected packages: fpdf\n",
            "  Building wheel for fpdf (setup.py) ... \u001b[?25l\u001b[?25hdone\n",
            "  Created wheel for fpdf: filename=fpdf-1.7.2-py2.py3-none-any.whl size=40704 sha256=7231d32d7bf27f371d62beb1c50fbc3e1afb0a0a7dac418648bfbd6e5a94c867\n",
            "  Stored in directory: /root/.cache/pip/wheels/f9/95/ba/f418094659025eb9611f17cbcaf2334236bf39a0c3453ea455\n",
            "Successfully built fpdf\n",
            "Installing collected packages: fpdf\n",
            "Successfully installed fpdf-1.7.2\n"
          ]
        }
      ]
    },
    {
      "cell_type": "code",
      "source": [
        "from fpdf import FPDF\n",
        "\n",
        "class PDF(FPDF):\n",
        "    def header(self):\n",
        "        self.set_font('Arial', 'B', 12)\n",
        "        self.cell(0, 10, 'Performance Metrics Report', 0, 1, 'C')\n",
        "\n",
        "    def chapter_title(self, title):\n",
        "        self.set_font('Arial', 'B', 12)\n",
        "        self.cell(0, 10, title, 0, 1, 'L')\n",
        "        self.ln(4)\n",
        "\n",
        "    def chapter_body(self, body):\n",
        "        self.set_font('Arial', '', 12)\n",
        "        self.multi_cell(0, 10, body)\n",
        "        self.ln()\n",
        "\n",
        "    def add_chapter(self, title, body):\n",
        "        self.add_page()\n",
        "        self.chapter_title(title)\n",
        "        self.chapter_body(body)\n",
        "\n",
        "actual_outcome_column = 'Inhospital Mortalit(TRUE)'\n",
        "predicted_outcome_column = 'clinicalbert_outcome'\n",
        "\n",
        "accuracy = accuracy_score(data[actual_outcome_column], data[predicted_outcome_column])\n",
        "precision = precision_score(data[actual_outcome_column], data[predicted_outcome_column], pos_label='survive')\n",
        "recall = recall_score(data[actual_outcome_column], data[predicted_outcome_column], pos_label='survive')\n",
        "f1 = f1_score(data[actual_outcome_column], data[predicted_outcome_column], pos_label='survive')\n",
        "tn, fp, fn, tp = confusion_matrix(data[actual_outcome_column], data[predicted_outcome_column], labels=['die', 'survive']).ravel()\n",
        "specificity = tn / (tn + fp)\n",
        "\n",
        "report_body = f\"\"\"\n",
        "Accuracy: {accuracy:.2f}\n",
        "Precision: {precision:.2f}\n",
        "Recall: {recall:.2f}\n",
        "Specificity: {specificity:.2f}\n",
        "F1-Score: {f1:.2f}\n",
        "\"\"\"\n",
        "\n",
        "pdf = PDF()\n",
        "pdf.set_left_margin(10)\n",
        "pdf.set_right_margin(10)\n",
        "pdf.add_chapter('ClinicalBERT Performance Metrics', report_body)\n",
        "\n",
        "pdf.output('/content/drive/My Drive/Performance_Metrics_Report.pdf')"
      ],
      "metadata": {
        "colab": {
          "base_uri": "https://localhost:8080/",
          "height": 91
        },
        "id": "ua3cpMFFMR8t",
        "outputId": "4c801586-6c75-4757-a07b-5a6ba9f67000"
      },
      "execution_count": null,
      "outputs": [
        {
          "output_type": "stream",
          "name": "stderr",
          "text": [
            "/usr/local/lib/python3.10/dist-packages/sklearn/metrics/_classification.py:1471: UndefinedMetricWarning: Precision is ill-defined and being set to 0.0 due to no predicted samples. Use `zero_division` parameter to control this behavior.\n",
            "  _warn_prf(average, modifier, msg_start, len(result))\n"
          ]
        },
        {
          "output_type": "execute_result",
          "data": {
            "text/plain": [
              "''"
            ],
            "application/vnd.google.colaboratory.intrinsic+json": {
              "type": "string"
            }
          },
          "metadata": {},
          "execution_count": 41
        }
      ]
    },
    {
      "cell_type": "code",
      "source": [
        "import pandas as pd\n",
        "\n",
        "actual_outcome_column = 'Inhospital Mortalit(TRUE)'\n",
        "predicted_outcome_column = 'clinicalbert_outcome'\n",
        "\n",
        "accuracy = accuracy_score(data[actual_outcome_column], data[predicted_outcome_column])\n",
        "precision = precision_score(data[actual_outcome_column], data[predicted_outcome_column], pos_label='survive')\n",
        "recall = recall_score(data[actual_outcome_column], data[predicted_outcome_column], pos_label='survive')\n",
        "f1 = f1_score(data[actual_outcome_column], data[predicted_outcome_column], pos_label='survive')\n",
        "tn, fp, fn, tp = confusion_matrix(data[actual_outcome_column], data[predicted_outcome_column], labels=['die', 'survive']).ravel()\n",
        "specificity = tn / (tn + fp)\n",
        "\n",
        "metrics = {\n",
        "    'Metric': ['Accuracy', 'Precision', 'Recall', 'Specificity', 'F1-Score'],\n",
        "    'Value': [accuracy, precision, recall, specificity, f1]\n",
        "}\n",
        "\n",
        "df_metrics = pd.DataFrame(metrics)\n",
        "\n",
        "output_file_path = '/content/drive/My Drive/Performance_Metrics.xlsx'\n",
        "df_metrics.to_excel(output_file_path, index=False)"
      ],
      "metadata": {
        "colab": {
          "base_uri": "https://localhost:8080/"
        },
        "id": "eQPVILc5MlUr",
        "outputId": "50ca2457-fc52-4ef8-e88d-45b8227cdaff"
      },
      "execution_count": null,
      "outputs": [
        {
          "output_type": "stream",
          "name": "stderr",
          "text": [
            "/usr/local/lib/python3.10/dist-packages/sklearn/metrics/_classification.py:1471: UndefinedMetricWarning: Precision is ill-defined and being set to 0.0 due to no predicted samples. Use `zero_division` parameter to control this behavior.\n",
            "  _warn_prf(average, modifier, msg_start, len(result))\n"
          ]
        }
      ]
    }
  ]
}